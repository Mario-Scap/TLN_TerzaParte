{
 "cells": [
  {
   "cell_type": "code",
   "execution_count": 308,
   "metadata": {},
   "outputs": [],
   "source": [
    "from glob import glob\n",
    "import spacy\n",
    "from spacy.lang.en.stop_words import STOP_WORDS\n",
    "from string import punctuation\n",
    "from nltk.corpus import stopwords\n",
    "import nltk\n",
    "import os\n",
    "import glob\n",
    "from nltk.translate.bleu_score import sentence_bleu\n",
    "from rouge import Rouge"
   ]
  },
  {
   "cell_type": "code",
   "execution_count": 309,
   "metadata": {},
   "outputs": [
    {
     "name": "stderr",
     "output_type": "stream",
     "text": [
      "[nltk_data] Downloading package stopwords to\n",
      "[nltk_data]     C:\\Users\\39392\\AppData\\Roaming\\nltk_data...\n",
      "[nltk_data]   Package stopwords is already up-to-date!\n"
     ]
    }
   ],
   "source": [
    "nltk.download(\"stopwords\")\n",
    "STOPWORD_SET = set(\n",
    "    stopwords.words(\"english\")\n",
    ")  # set of stopwords of the English language\n",
    "PUNCTUATION_SET = set(\"!\\\"#$%&'()*+,-./:;<=>?@[\\\\]^_`{|}~\")"
   ]
  },
  {
   "cell_type": "code",
   "execution_count": 310,
   "metadata": {},
   "outputs": [],
   "source": [
    "nlp = spacy.load('en_core_web_sm')\n",
    "document = 'MachineLearning.txt'"
   ]
  },
  {
   "cell_type": "code",
   "execution_count": 311,
   "metadata": {},
   "outputs": [],
   "source": [
    "for filepath in glob.glob(document):\n",
    "    with open(filepath,'r', encoding = 'utf-8', errors='ignore') as f:\n",
    "        text = f.read()\n",
    "        lines = text.split(' , ')\n",
    "        for line in lines:\n",
    "            line = nlp(line)\n",
    "            #print(nlp(text))\n",
    "            \n",
    "            tokens = [token.text for token in line]\n",
    "            #print (tokens)\n",
    "       "
   ]
  },
  {
   "cell_type": "code",
   "execution_count": 312,
   "metadata": {},
   "outputs": [],
   "source": [
    "#conto le parole piu frequenti all'interno del mio txt. La frequenza delle parole mi sara utile per fare la summarization finale\n",
    "word_frequency = {}\n",
    "\n",
    "for word in line: \n",
    "    if word.text.lower() not in STOPWORD_SET:\n",
    "        if word.text.lower() not in PUNCTUATION_SET:\n",
    "            if word.text not in word_frequency.keys():\n",
    "                word_frequency[word.text] = 1\n",
    "            else:\n",
    "                word_frequency[word.text] = word_frequency[word.text]+1"
   ]
  },
  {
   "cell_type": "code",
   "execution_count": 313,
   "metadata": {},
   "outputs": [],
   "source": [
    "#word_frequency"
   ]
  },
  {
   "cell_type": "code",
   "execution_count": 314,
   "metadata": {},
   "outputs": [],
   "source": [
    "#vado a vedere qual e' la parola che appare piu frequentemente. Questo poi lo vado a dividere per ogni parola in modo da avere un punteggi a disposizione per poi la summarization\n",
    "max_frequency = max(word_frequency.values())\n",
    "#print(max_frequency)\n",
    "\n",
    "for word in word_frequency.keys():\n",
    "    word_frequency[word]= (word_frequency[word]/max_frequency)\n",
    "\n",
    "#print(word_frequency)"
   ]
  },
  {
   "cell_type": "code",
   "execution_count": 315,
   "metadata": {},
   "outputs": [
    {
     "name": "stdout",
     "output_type": "stream",
     "text": [
      "\n",
      "Sentences : {Machine learning (ML) is a field of inquiry devoted to understanding and building methods that 'learn', that is, methods that leverage data to improve performance on some set of tasks.: 4.0555555555555545, It is seen as a part of artificial intelligence.: 0.2222222222222222, Machine learning algorithms build a model based on sample data, known as training data, in order to make predictions or decisions without being explicitly programmed to do so.: 4.277777777777777, Machine learning algorithms are used in a wide variety of applications, such as in medicine, email filtering, speech recognition, and computer vision, where it is difficult or unfeasible to develop conventional algorithms to perform the needed tasks.: 2.944444444444442, A subset of machine learning is closely related to computational statistics, which focuses on making predictions using computers, but not all machine learning is statistical learning.: 4.8888888888888875, The study of mathematical optimization delivers methods, theory and application domains to the field of machine learning.: 2.666666666666667, Data mining is a related field of study, focusing on exploratory data analysis through unsupervised learning.: 3.4444444444444446, Some implementations of machine learning use data and neural networks in a way that mimics the working of a biological brain.: 2.666666666666665, In its application across business problems, machine learning is also referred to as predictive analytics.: 2.166666666666666, Machine learning and data mining often employ the same methods and overlap significantly, but while machine learning focuses on prediction, based on known properties learned from the training data, data mining focuses on the discovery of (previously) unknown properties in the data (this is the analysis step of knowledge discovery in databases).: 9.499999999999996, Data mining uses many machine learning methods, but with different goals; on the other hand, machine learning also employs data mining methods as \"unsupervised learning\" or as a preprocessing step to improve learner accuracy.: 7.999999999999999, Much of the confusion between these two research communities (which do often have separate conferences and separate journals, ECML PKDD being a major exception) comes from the basic assumptions they work with: in machine learning, performance is usually evaluated with respect to the ability to reproduce known knowledge, while in knowledge discovery and data mining (KDD) the key task is the discovery of previously unknown knowledge.: 5.833333333333331, Evaluated with respect to known knowledge, an uninformed (unsupervised) method will easily be outperformed by other supervised methods, while in a typical KDD task, supervised methods cannot be used due to the unavailability of training data.: 3.444444444444444, Machine learning also has intimate ties to optimization: many learning problems are formulated as minimization of some loss function on a training set of examples.: 3.8333333333333326, Loss functions express the discrepancy between the predictions of the model being trained and the actual problem instances (for example, in classification, one wants to assign a label to instances, and models are trained to correctly predict the pre-assigned labels of a set of examples).: 2.0000000000000004}\n"
     ]
    }
   ],
   "source": [
    "#faccio la sentence tokenization\n",
    "sentence = [sent for sent in line.sents]\n",
    "#print(sentence)\n",
    "\n",
    "#creo dei punteggi per ogni frase. SUlla base dei punteggi posso definire la summarization\n",
    "sentence_score = {}\n",
    "score = {}\n",
    "for sent in sentence:\n",
    "    for word in sent:\n",
    "        if word.text.lower() in word_frequency.keys():\n",
    "            if sent not in sentence_score.keys():\n",
    "                sentence_score[sent] = word_frequency[word.text.lower()]\n",
    "            else:\n",
    "                sentence_score[sent] += word_frequency[word.text.lower()]             \n",
    "print(\"\\nSentences :\", sentence_score)"
   ]
  },
  {
   "cell_type": "code",
   "execution_count": 316,
   "metadata": {},
   "outputs": [],
   "source": [
    "from heapq import nlargest\n",
    "\n",
    "#faccio una compressione del testo del 40%\n",
    "select_lenght = int(len(sentence)*0.4)\n",
    "\n",
    "summary = nlargest(select_lenght, sentence_score, key=sentence_score.get)"
   ]
  },
  {
   "cell_type": "code",
   "execution_count": 317,
   "metadata": {},
   "outputs": [
    {
     "name": "stdout",
     "output_type": "stream",
     "text": [
      "Machine learning and data mining often employ the same methods and overlap significantly, but while machine learning focuses on prediction, based on known properties learned from the training data, data mining focuses on the discovery of (previously) unknown properties in the data (this is the analysis step of knowledge discovery in databases). Data mining uses many machine learning methods, but with different goals; on the other hand, machine learning also employs data mining methods as \"unsupervised learning\" or as a preprocessing step to improve learner accuracy. Much of the confusion between these two research communities (which do often have separate conferences and separate journals, ECML PKDD being a major exception) comes from the basic assumptions they work with: in machine learning, performance is usually evaluated with respect to the ability to reproduce known knowledge, while in knowledge discovery and data mining (KDD) the key task is the discovery of previously unknown knowledge. A subset of machine learning is closely related to computational statistics, which focuses on making predictions using computers, but not all machine learning is statistical learning. Machine learning algorithms build a model based on sample data, known as training data, in order to make predictions or decisions without being explicitly programmed to do so. Machine learning (ML) is a field of inquiry devoted to understanding and building methods that 'learn', that is, methods that leverage data to improve performance on some set of tasks.\n"
     ]
    }
   ],
   "source": [
    "summarized = [word.text for word in summary]\n",
    "\n",
    "summary = ' '.join(summarized)\n",
    "\n",
    "print(summary)"
   ]
  },
  {
   "cell_type": "code",
   "execution_count": 318,
   "metadata": {},
   "outputs": [
    {
     "name": "stdout",
     "output_type": "stream",
     "text": [
      "Rouge Score : [{'rouge-1': {'r': 1.0, 'p': 0.3, 'f': 0.4615384579881657}, 'rouge-2': {'r': 0.6875, 'p': 0.034482758620689655, 'f': 0.06567164088144353}, 'rouge-l': {'r': 1.0, 'p': 0.3, 'f': 0.4615384579881657}}]\n"
     ]
    }
   ],
   "source": [
    "#computing blue rouge score:\n",
    "rouge = Rouge()\n",
    "#print(\"Blue Score : \", sentence_bleu([document], summary, weights=(1,0,0,0)))\n",
    "\n",
    "rouge_score = rouge.get_scores(' '.join(summary), ' '.join(document))\n",
    "print(\"Rouge Score :\", rouge_score)"
   ]
  }
 ],
 "metadata": {
  "kernelspec": {
   "display_name": "Python 3.8.5 ('base')",
   "language": "python",
   "name": "python3"
  },
  "language_info": {
   "codemirror_mode": {
    "name": "ipython",
    "version": 3
   },
   "file_extension": ".py",
   "mimetype": "text/x-python",
   "name": "python",
   "nbconvert_exporter": "python",
   "pygments_lexer": "ipython3",
   "version": "3.8.5"
  },
  "orig_nbformat": 4,
  "vscode": {
   "interpreter": {
    "hash": "8713ca3b77628a4414cb19afecce4be886be5a2f883480e0c3ed66d57c8d45ba"
   }
  }
 },
 "nbformat": 4,
 "nbformat_minor": 2
}
