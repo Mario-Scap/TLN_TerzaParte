{
 "cells": [
  {
   "cell_type": "code",
   "execution_count": 10,
   "metadata": {},
   "outputs": [],
   "source": [
    "import matplotlib.pyplot as plt\n",
    "import nltk\n",
    "import spacy\n",
    "import numpy as np\n",
    "from nltk import WordNetLemmatizer, Counter\n",
    "from nltk.corpus import brown\n",
    "from nltk.corpus import wordnet as wn\n",
    "from nltk.tokenize import word_tokenize\n",
    "import import_ipynb\n",
    "import wsd"
   ]
  },
  {
   "cell_type": "code",
   "execution_count": 11,
   "metadata": {},
   "outputs": [],
   "source": [
    "lemmatizer = WordNetLemmatizer()\n",
    "nlp = spacy.load('en_core_web_sm')\n",
    "\n",
    "pronouns_persons = ['i', 'you', 'he', 'she', 'we', 'they', 'me']\n",
    "\n",
    "pronouns_object = ['it']\n",
    "ambiguous_terms = ['that', 'what', 'her']\n",
    "\n",
    "person_supersense = 'noun.person'\n",
    "entity_supersense = 'noun.entity'"
   ]
  },
  {
   "cell_type": "code",
   "execution_count": 12,
   "metadata": {},
   "outputs": [],
   "source": [
    "def get_sentences_with_verb(verb):\n",
    "    target_sentence = []\n",
    "    for sentence in brown.sents():\n",
    "        for word in sentence:\n",
    "            if lemmatizer.lemmatize(word, 'v') == verb:\n",
    "                # if has_subj_dobj(sentence, verb):\n",
    "                target_sentence.append(' '.join(sentence))\n",
    "    return target_sentence"
   ]
  },
  {
   "cell_type": "code",
   "execution_count": 13,
   "metadata": {},
   "outputs": [],
   "source": [
    "def extract_subj_dobj(sentence, verb_base_form):\n",
    "    token_s = nlp(sentence)\n",
    "    for token in token_s:\n",
    "        subj, dobj = '', ''\n",
    "        if verb_base_form in token.text:\n",
    "            for child in token.children:\n",
    "                if child.dep_ == \"nsubj\":\n",
    "                    # print('SOGGETTO : {}\\n'.format(child.text))\n",
    "                    subj = child.text\n",
    "                if child.dep_ == \"dobj\":\n",
    "                    # print('OGGETTO DIRETTO : {}\\n'.format(child.text))\n",
    "                    dobj = child.text\n",
    "        if dobj != '' and subj != '':\n",
    "            break\n",
    "    return subj, dobj\n"
   ]
  },
  {
   "cell_type": "code",
   "execution_count": 14,
   "metadata": {},
   "outputs": [],
   "source": [
    "def map_pronom_to_sense(word):\n",
    "    if word.lower() in pronouns_persons:\n",
    "        return person_supersense\n",
    "    else:\n",
    "        return entity_supersense\n",
    "\n",
    "\n",
    "def is_pronom(word):\n",
    "    pos_word = nltk.pos_tag(word_tokenize(word))\n",
    "    return pos_word[0][1] == 'PRP'\n",
    "\n",
    "\n",
    "def stringate_value(hypernom_subj, hypernom_dobj):\n",
    "    return hypernom_subj.split('.')[1] + ':' + hypernom_dobj.split('.')[1]\n",
    "\n",
    "\n",
    "def is_personal_noun(subj):\n",
    "    char = subj[0:1]\n",
    "    if len(wn.synsets(subj)) == 0 and char.isupper():\n",
    "        return True\n",
    "    return False\n",
    "\n",
    "\n",
    "def take_second(elem):\n",
    "    return elem[1]"
   ]
  },
  {
   "cell_type": "code",
   "execution_count": 15,
   "metadata": {},
   "outputs": [],
   "source": [
    "def get_supersense(elem, sentence):\n",
    "    hypernom, elem_disambigued  = '', None\n",
    "    if is_pronom(elem):\n",
    "        hypernom = map_pronom_to_sense(elem)\n",
    "    elif is_personal_noun(elem):\n",
    "        hypernom = person_supersense\n",
    "    else:\n",
    "        elem_disambigued = wsd.lesk_algorithm(elem, sentence)\n",
    "    if elem_disambigued is not None:\n",
    "        hypernom = elem_disambigued._lexname\n",
    "    return hypernom"
   ]
  },
  {
   "cell_type": "code",
   "execution_count": 16,
   "metadata": {},
   "outputs": [],
   "source": [
    "def get_semantic_cluster(sentences, verb_base_form):\n",
    "    filler1, filler2 = [], []\n",
    "    sentences_analyzed, semantic_type = 0, []\n",
    "    for s in sentences:\n",
    "        subj, dobj = extract_subj_dobj(s, verb_base_form)\n",
    "\n",
    "        if subj != '' and dobj != '':\n",
    "            if subj.lower() not in ambiguous_terms and dobj.lower() not in ambiguous_terms:\n",
    "                hypernom_subj = get_supersense(subj, s)\n",
    "                hypernom_dobj = get_supersense(dobj, s)\n",
    "\n",
    "                if hypernom_dobj != '' and hypernom_subj != '':\n",
    "                    sentences_analyzed += 1\n",
    "                    filler1.append(hypernom_subj)\n",
    "                    filler2.append(hypernom_dobj)\n",
    "                    semantic_values = stringate_value(hypernom_subj, hypernom_dobj)\n",
    "                    semantic_type.append(semantic_values)\n",
    "\n",
    "    return semantic_type, sentences_analyzed"
   ]
  },
  {
   "cell_type": "code",
   "execution_count": 17,
   "metadata": {},
   "outputs": [],
   "source": [
    "def plot_result(dataset, verb):\n",
    "    # Add titles and axis names\n",
    "    occurence, semantic_type = [], []\n",
    "    for k in dataset:\n",
    "        occurence.append(k[1])\n",
    "        semantic_type.append(k[0].replace(':', '\\n'))\n",
    "\n",
    "    y_pos = np.arange(len(semantic_type))\n",
    "    plt.bar(y_pos, occurence, align='center', alpha=0.5)\n",
    "    plt.xticks(y_pos, semantic_type)\n",
    "    plt.title('Semantic cluster of verb {}'.format(verb))\n",
    "    plt.xlabel('Semantic types')\n",
    "    plt.ylabel('Occurences')\n",
    "    plt.show()\n"
   ]
  },
  {
   "cell_type": "code",
   "execution_count": 18,
   "metadata": {},
   "outputs": [
    {
     "name": "stdout",
     "output_type": "stream",
     "text": [
      "\n",
      "Current verb : eat\n",
      "\n",
      "Plot verb eat\n"
     ]
    },
    {
     "data": {
      "image/png": "[encoded data removed]",
      "text/plain": [
       "<Figure size 432x288 with 1 Axes>"
      ]
     },
     "metadata": {
      "needs_background": "light"
     },
     "output_type": "display_data"
    },
    {
     "name": "stdout",
     "output_type": "stream",
     "text": [
      "\n",
      "Sono state analizzate 24 frasi \n",
      "per il verbo: eat le cui coppie semantiche sono :\n",
      "\n",
      "\t< communication:substance > Count 1 \n",
      "\t< communication:quantity > Count 1 \n",
      "\t< quantity:body > Count 1 \n",
      "\t< person:plant > Count 3 \n",
      "\t< person:person > Count 1 \n",
      "\t< person:animal > Count 1 \n",
      "\t< group:plant > Count 1 \n",
      "\t< person:communication > Count 2 \n",
      "\t< entity:body > Count 1 \n",
      "\t< person:quantity > Count 1 \n",
      "\t< person:all > Count 2 \n",
      "\t< person:food > Count 6 \n",
      "\t< person:entity > Count 1 \n",
      "\t< animal:group > Count 1 \n",
      "\t< person:substance > Count 1 \n",
      "\n",
      "\n",
      "\n",
      "Current verb : read\n",
      "\n",
      "Plot verb read\n"
     ]
    },
    {
     "data": {
      "image/png": "[encoded data removed]",
      "text/plain": [
       "<Figure size 432x288 with 1 Axes>"
      ]
     },
     "metadata": {
      "needs_background": "light"
     },
     "output_type": "display_data"
    },
    {
     "name": "stdout",
     "output_type": "stream",
     "text": [
      "\n",
      "Sono state analizzate 65 frasi \n",
      "per il verbo: read le cui coppie semantiche sono :\n",
      "\n",
      "\t< person:communication > Count 23 \n",
      "\t< person:artifact > Count 4 \n",
      "\t< person:entity > Count 8 \n",
      "\t< group:communication > Count 1 \n",
      "\t< group:location > Count 1 \n",
      "\t< person:change > Count 1 \n",
      "\t< person:person > Count 3 \n",
      "\t< entity:person > Count 1 \n",
      "\t< person:cognition > Count 1 \n",
      "\t< person:attribute > Count 1 \n",
      "\t< all:quantity > Count 2 \n",
      "\t< person:time > Count 1 \n",
      "\t< person:all > Count 4 \n",
      "\t< quantity:possession > Count 1 \n",
      "\t< act:communication > Count 2 \n",
      "\t< quantity:entity > Count 2 \n",
      "\t< person:quantity > Count 1 \n",
      "\t< relation:time > Count 1 \n",
      "\t< group:state > Count 2 \n",
      "\t< group:stative > Count 1 \n",
      "\t< person:substance > Count 1 \n",
      "\t< person:event > Count 1 \n",
      "\t< person:location > Count 1 \n",
      "\t< group:person > Count 1 \n",
      "\n",
      "\n"
     ]
    }
   ],
   "source": [
    "verbs = ['eat', 'read']\n",
    "\n",
    "for v in verbs:\n",
    "\n",
    "    sentences = get_sentences_with_verb(v)\n",
    "    print('\\nCurrent verb : {}\\n'.format(v))\n",
    "    semantic_cluster, sentences_analyzed = get_semantic_cluster(sentences, v)\n",
    "    print('Plot verb {}'.format(v))\n",
    "\n",
    "    # Print stats\n",
    "    sts_semantic_cluster = Counter(semantic_cluster)\n",
    "    common_semantic_cluster = sts_semantic_cluster.most_common(5)\n",
    "    plot_result(common_semantic_cluster, v)\n",
    "\n",
    "    print('\\nSono state analizzate {} frasi \\nper il verbo: {} le cui coppie semantiche sono :\\n'.format(sentences_analyzed, v))\n",
    "\n",
    "    for s in sts_semantic_cluster:\n",
    "        print('\\t< {} > Count {} '.format(s, sts_semantic_cluster[s]))\n",
    "\n",
    "    print('\\n')\n"
   ]
  }
 ],
 "metadata": {
  "kernelspec": {
   "display_name": "Python 3.8.5 ('base')",
   "language": "python",
   "name": "python3"
  },
  "language_info": {
   "codemirror_mode": {
    "name": "ipython",
    "version": 3
   },
   "file_extension": ".py",
   "mimetype": "text/x-python",
   "name": "python",
   "nbconvert_exporter": "python",
   "pygments_lexer": "ipython3",
   "version": "3.8.5"
  },
  "orig_nbformat": 4,
  "vscode": {
   "interpreter": {
    "hash": "8713ca3b77628a4414cb19afecce4be886be5a2f883480e0c3ed66d57c8d45ba"
   }
  }
 },
 "nbformat": 4,
 "nbformat_minor": 2
}
