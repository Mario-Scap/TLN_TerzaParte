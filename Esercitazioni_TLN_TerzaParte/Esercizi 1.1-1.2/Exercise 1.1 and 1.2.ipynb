{
 "cells": [
  {
   "cell_type": "code",
   "execution_count": 26,
   "metadata": {},
   "outputs": [],
   "source": [
    "from nltk.tokenize import word_tokenize\n",
    "import re\n",
    "import nltk\n",
    "from nltk.stem.wordnet import WordNetLemmatizer\n",
    "from nltk.corpus import wordnet as wn\n",
    "from nltk.corpus import stopwords\n",
    "import csv"
   ]
  },
  {
   "cell_type": "code",
   "execution_count": 27,
   "metadata": {},
   "outputs": [],
   "source": [
    "#Leggo il csv riga per riga\n",
    "def read_rows_csv(csv_file):\n",
    "    for rows in csv_file:\n",
    "        return rows"
   ]
  },
  {
   "cell_type": "code",
   "execution_count": 28,
   "metadata": {},
   "outputs": [],
   "source": [
    "#rimuovo la punteggiatura\n",
    "def remove_punctuation(sentence):\n",
    "    return re.sub(r'[^\\w\\s]', '', sentence)\n",
    "\n",
    "#rimuovo le stopwords\n",
    "def remove_stopwords(words_list):\n",
    "    stopwords = open(\"stop_words_FULL.txt\", \"r\") \n",
    "    stopwords_list = [] \n",
    "    for word in stopwords:\n",
    "        stopwords_list.append(word.replace('\\n', ''))\n",
    "    stopwords.close()\n",
    "    return [value.lower() for value in words_list if value.lower() not in stopwords_list] #restituisco la lista di stopwords trovate\n",
    "    \n",
    "#effettuo lo splitting della frase sfruttando gli spazi e poi ogni parola viene portare al suo lemma\n",
    "def tokenize_sentences(sentence):\n",
    "    word_list= []\n",
    "    lemma = WordNetLemmatizer()\n",
    "    for tag in nltk.pos_tag(word_tokenize(sentence)):\n",
    "        if(tag[1][:2] == 'NN'):\n",
    "            word_list.append(lemma.lemmatize(tag[0], pos = wn.NOUN))\n",
    "        elif(tag[1][:2] == 'VB'):\n",
    "            word_list.append(lemma.lemmatize(tag[0], pos = wn.VERB))\n",
    "        elif(tag[1][:2] == 'RB'):\n",
    "            word_list.append(lemma.lemmatize(tag[0], pos = wn.ADV))\n",
    "        elif(tag[1][:2] == 'JJ'):\n",
    "            word_list.append(lemma.lemmatize(tag[0], pos = wn.ADJ))\n",
    "    \n",
    "    return word_list\n",
    "\n",
    "#operazione di preprocessing che effettua le operazioni di Text Cleaning svolte precedentemente\n",
    "def pre_processing (sentence):\n",
    "    return remove_stopwords(tokenize_sentences(remove_punctuation(sentence)))"
   ]
  },
  {
   "cell_type": "code",
   "execution_count": 29,
   "metadata": {},
   "outputs": [],
   "source": [
    "#Leggo il file defs.csv e restituisco un dizionario di definizioni \n",
    "def definitions(file):\n",
    "\n",
    "    readCSV = csv.reader(file, delimiter=',')\n",
    "    \n",
    "    # get list of words to analize\n",
    "    words = read_rows_csv(readCSV)[1:]\n",
    "\n",
    "    definitions_words = dict() #creo un dizionario di definizioni dove la chiave e' il termine e il valore da una lista di BoW correlata alla definizione\n",
    "\n",
    "    for row in readCSV:\n",
    "        for index, definition in enumerate(row):\n",
    "            # se ho una definizone, e l'indice e' > 0, allora leggo quella riga \n",
    "            if definition:  \n",
    "                if index > 0:\n",
    "                    term = words[index - 1] \n",
    "                    if term not in definitions_words.keys():\n",
    "                        definitions_words[term] = [pre_processing(definition)] #faccio semplicemente il preprocessing e basta\n",
    "                    else:\n",
    "                        definitions_words[term].append(pre_processing(definition)) #faccio il preprocessing e faccio l'append nel mio dizionario.\n",
    "    return definitions_words"
   ]
  },
  {
   "cell_type": "code",
   "execution_count": 30,
   "metadata": {},
   "outputs": [],
   "source": [
    "#la formula per calcolare la distanza del coseno e': Cos(x, y) = x . y / ||x|| * ||y||\n",
    "def cosine_similarity(definition1, defintion2):\n",
    "    vector1=[]\n",
    "    vector2=[]\n",
    "    \n",
    "    total_def = (set(definition1) | set(defintion2)) #creo un insieme con sia definition 1 che definition 2\n",
    "\n",
    "#creo il vettore\n",
    "    for w in total_def:\n",
    "        if w in definition1:\n",
    "            vector1.append(1)\n",
    "        else:\n",
    "            vector1.append(0)\n",
    "        \n",
    "        if w in defintion2:\n",
    "            vector2.append(1)\n",
    "        else:\n",
    "            vector2.append(0)\n",
    "    \n",
    "    c = 0\n",
    "\n",
    "    #cosine formula \n",
    "    for i in range(len(total_def)):\n",
    "        c += vector1[i] * vector2[i]\n",
    "    \n",
    "    cosine = c / float((sum(vector1) * sum(vector2)) ** 0.5)\n",
    "\n",
    "    #print(\"similarity :\", cosine)\n",
    "\n",
    "    return cosine    "
   ]
  },
  {
   "cell_type": "code",
   "execution_count": 31,
   "metadata": {},
   "outputs": [],
   "source": [
    "def compute_results(total_def):\n",
    "    results = dict() #dizionario con tutte le liste di definizioni processate\n",
    "    for word in total_def.keys(): \n",
    "        definitions = total_def[word] #costutuisce l'insieme delle definizioni \n",
    "        \n",
    "        avg_similarity = 0 #similarita' media tra tutte le coppie di definizioni per lo stesso concetto\n",
    "        count = 0 \n",
    "        for def1 in definitions:\n",
    "            for def2 in definitions:\n",
    "                if not def1 == def2: \n",
    "                    avg_similarity += cosine_similarity(def1, def2)\n",
    "                    count += 1 \n",
    "        \n",
    "        results[word] = avg_similarity / count \n",
    "        \n",
    "    return results"
   ]
  },
  {
   "cell_type": "code",
   "execution_count": 32,
   "metadata": {},
   "outputs": [],
   "source": [
    "#Calcolo la lista delle parole piu frequenti\n",
    "def most_frequent_words(definitions):\n",
    "    words = set([word for definition in definitions for word in definition]) #insieme delle parole presenti all'interno delle definizioni\n",
    "\n",
    "    freq_words = dict() #creo un dizionario che conterra' la lista delle parole frequenti\n",
    "\n",
    "    for w in words:\n",
    "\n",
    "        for d in definitions:\n",
    "\n",
    "            if w in d:\n",
    "\n",
    "                if w not in freq_words.keys():\n",
    "                    freq_words[w]=1\n",
    "                else:\n",
    "                    count = freq_words[w] + 1\n",
    "                    freq_words[w]= count\n",
    "\n",
    "        if w in freq_words:\n",
    "            freq_words[w] += 1\n",
    "\n",
    "        else:\n",
    "            freq_words[w] = 1\n",
    "    \n",
    "    #dopo che ho trovato la lista delle parole piu frequenti voglio vedere le parole che occorrono piu del 50% delle volte nelle definizioni.\n",
    "    most_frequent_words = [] \n",
    "    \n",
    "    for word in freq_words.keys():\n",
    "        if freq_words[word] >= (0.5 * len(definitions)): #vedo le parole che appaiono piu del 50% nelle definizioni\n",
    "            most_frequent_words.append(word)\n",
    "\n",
    "    return most_frequent_words"
   ]
  },
  {
   "cell_type": "code",
   "execution_count": 33,
   "metadata": {},
   "outputs": [
    {
     "name": "stdout",
     "output_type": "stream",
     "text": [
      " Similiarita del coseno :  {'Courage': 0.21054727554969985, 'Paper': 0.29258850377799267, 'Apprehension': 0.0830330313557733, 'Sharpener': 0.3863878711824424}\n",
      "\n",
      " Most Frequent words : \n",
      "[('Courage', ['ability', 'fear']), ('Paper', ['material', 'write']), ('Apprehension', []), ('Sharpener', ['pencil', 'tool', 'sharpen'])]\n"
     ]
    }
   ],
   "source": [
    "with open('defs.csv') as csvfile:\n",
    "    total_def = definitions(csvfile)\n",
    "    results = compute_results(total_def)\n",
    "    print (' Similiarita del coseno : ' , results)\n",
    "    print('\\n Most Frequent words : ')\n",
    "    print ([(key, most_frequent_words(total_def[key])) for key in ['Courage', 'Paper', 'Apprehension', 'Sharpener']])"
   ]
  }
 ],
 "metadata": {
  "kernelspec": {
   "display_name": "Python 3.8.5 ('base')",
   "language": "python",
   "name": "python3"
  },
  "language_info": {
   "codemirror_mode": {
    "name": "ipython",
    "version": 3
   },
   "file_extension": ".py",
   "mimetype": "text/x-python",
   "name": "python",
   "nbconvert_exporter": "python",
   "pygments_lexer": "ipython3",
   "version": "3.8.5"
  },
  "orig_nbformat": 4,
  "vscode": {
   "interpreter": {
    "hash": "8713ca3b77628a4414cb19afecce4be886be5a2f883480e0c3ed66d57c8d45ba"
   }
  }
 },
 "nbformat": 4,
 "nbformat_minor": 2
}
